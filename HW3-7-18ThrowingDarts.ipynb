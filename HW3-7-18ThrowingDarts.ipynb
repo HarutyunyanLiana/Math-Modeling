{
  "nbformat": 4,
  "nbformat_minor": 0,
  "metadata": {
    "colab": {
      "name": "Untitled0.ipynb",
      "version": "0.3.2",
      "provenance": [],
      "collapsed_sections": []
    },
    "kernelspec": {
      "name": "python3",
      "display_name": "Python 3"
    }
  },
  "cells": [
    {
      "metadata": {
        "id": "BEpKUqh6Na_T",
        "colab_type": "code",
        "colab": {}
      },
      "cell_type": "code",
      "source": [
        "import numpy as np\n",
        "import random\n",
        "import matplotlib.pyplot as plt\n",
        "%matplotlib inline"
      ],
      "execution_count": 0,
      "outputs": []
    },
    {
      "metadata": {
        "id": "092_7ZCJ2gDU",
        "colab_type": "text"
      },
      "cell_type": "markdown",
      "source": [
        "RUN THE CODE FOR A CONCRETE VALUE (now n = 2), can change for other values"
      ]
    },
    {
      "metadata": {
        "id": "CcvSuppRNdAV",
        "colab_type": "code",
        "colab": {}
      },
      "cell_type": "code",
      "source": [
        "M_cells = 500\n",
        "N_darts = 50\n",
        "trials = 1000\n",
        "n = 2 \n",
        "cells = [0] * M_cells\n",
        "p_s = [0] * trials"
      ],
      "execution_count": 0,
      "outputs": []
    },
    {
      "metadata": {
        "id": "ahD7Y2ha2Uoy",
        "colab_type": "code",
        "colab": {}
      },
      "cell_type": "code",
      "source": [
        "def P_n(arr, n):\n",
        "  global M_cells\n",
        "  return H_n(arr, n) / M_cells"
      ],
      "execution_count": 0,
      "outputs": []
    },
    {
      "metadata": {
        "id": "deCyYDOv2Vft",
        "colab_type": "code",
        "colab": {}
      },
      "cell_type": "code",
      "source": [
        "def H_n(arr, n):\n",
        "  return arr.count(n)"
      ],
      "execution_count": 0,
      "outputs": []
    },
    {
      "metadata": {
        "id": "Wn2HaLT0Ngkw",
        "colab_type": "code",
        "colab": {}
      },
      "cell_type": "code",
      "source": [
        "for trial in range(trials):\n",
        "  for dart in range(N_darts):\n",
        "    cells[random.randint(0,M_cells-1)] += 1\n",
        "  p_s[trial] = P_n(cells, n)"
      ],
      "execution_count": 0,
      "outputs": []
    },
    {
      "metadata": {
        "id": "HQHQdTkq2nRY",
        "colab_type": "text"
      },
      "cell_type": "markdown",
      "source": [
        "### Plot Trials VS P(n)\n"
      ]
    },
    {
      "metadata": {
        "id": "_rqB2PXWPFmB",
        "colab_type": "code",
        "outputId": "c7a0173c-c0a9-4b68-93d8-f35f00b7479f",
        "colab": {
          "base_uri": "https://localhost:8080/",
          "height": 296
        }
      },
      "cell_type": "code",
      "source": [
        "fig = plt.figure()\n",
        "\n",
        "ax = plt.axes()\n",
        "\n",
        "x = np.arange(0, 1000, 1)\n",
        "ax.plot(x, p_s)\n",
        "ax.set(xlabel='trial', ylabel='P(n)')"
      ],
      "execution_count": 0,
      "outputs": [
        {
          "output_type": "execute_result",
          "data": {
            "text/plain": [
              "[Text(0,0.5,'P(n)'), Text(0.5,0,'trial')]"
            ]
          },
          "metadata": {
            "tags": []
          },
          "execution_count": 35
        },
        {
          "output_type": "display_data",
          "data": {
            "image/png": "[encoded data removed]",
            "text/plain": [
              "<matplotlib.figure.Figure at 0x7f9884424518>"
            ]
          },
          "metadata": {
            "tags": []
          }
        }
      ]
    },
    {
      "metadata": {
        "id": "S0qxHkAIw0C-",
        "colab_type": "code",
        "colab": {}
      },
      "cell_type": "code",
      "source": [
        ""
      ],
      "execution_count": 0,
      "outputs": []
    }
  ]
}